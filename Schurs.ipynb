
  {
   "cell_type": "code",
   "execution_count": null,
   "metadata": {},
   "outputs": [],
   "source": []
  },
  {
   "cell_type": "code",
   "execution_count": 1,
   "metadata": {},
   "outputs": [
    {
     "data": {
      "text/plain": [
       "Symmetric functions in non-commuting variables over the Rational Field in the monomial basis"
      ]
     },
     "execution_count": 1,
     "metadata": {},
     "output_type": "execute_result"
    }
   ],
   "source": [
    "NCSym = SymmetricFunctionsNonCommutingVariables(QQ)\n",
    "m = NCSym.m()\n",
    "e = NCSym.e()\n",
    "h = NCSym.h()\n",
    "p = NCSym.p()\n",
    "m"
   ]
  },
  {
   "cell_type": "code",
   "execution_count": 2,
   "metadata": {},
   "outputs": [
    {
     "data": {
      "text/plain": [
       "{{1, 2}}"
      ]
     },
     "execution_count": 2,
     "metadata": {},
     "output_type": "execute_result"
    }
   ],
   "source": [
    "SetPartition([[2,1]])"
   ]
  },
  {
   "cell_type": "code",
   "execution_count": 3,
   "metadata": {},
   "outputs": [],
   "source": [
    "def h_basis(n):\n",
    "    \"This function gets n and returns h_{1,2,3,...,n}\"\n",
    "    A=[]\n",
    "    for i in range(1,n+1):\n",
    "        A.append(i)\n",
    "    return h[A]"
   ]
  },
  {
   "cell_type": "code",
   "execution_count": 4,
   "metadata": {
    "scrolled": true
   },
   "outputs": [
    {
     "data": {
      "text/plain": [
       "h{{1, 2, 3}, {4, 5, 6, 7, 8}}"
      ]
     },
     "execution_count": 4,
     "metadata": {},
     "output_type": "execute_result"
    }
   ],
   "source": [
    "h_basis(3)*h_basis(5)"
   ]
  },
  {
   "cell_type": "code",
   "execution_count": 5,
   "metadata": {},
   "outputs": [],
   "source": [
    "def J_C(la):\n",
    "    'This function returns an array where its i,j entry is 1/n! h_{1,2,..,n}'\n",
    "    A=[]\n",
    "    JC=[]\n",
    "    for i in range(len(la)):\n",
    "        for n in range(la[i]-i,la[i]+len(la)+1-i):\n",
    "            if n<0:\n",
    "                A.append(0)\n",
    "            if n>-1: \n",
    "                A.append((1/factorial(n))*h_basis(n))\n",
    "        JC.append(A)\n",
    "        A=[]\n",
    "    return JC\n"
   ]
  },
  {
   "cell_type": "code",
   "execution_count": 6,
   "metadata": {},
   "outputs": [],
   "source": [
    "def JaTrSet(la):\n",
    "    'This function returns an array where its i,j entry is [1,2,..,n] if the i,j entry of Jacobi-Trudi is h_n'\n",
    "    A=[]\n",
    "    B=[]\n",
    "    for i in range(len(la)):\n",
    "        for n in range(la[i]-i,la[i]+len(la)-i):\n",
    "            if n<0:\n",
    "                A.append(0)\n",
    "            if n>-1: \n",
    "                A.append([i+1 for i in range(n)])\n",
    "        B.append(A)\n",
    "        A=[]\n",
    "    return B"
   ]
  },
  {
   "cell_type": "code",
   "execution_count": 7,
   "metadata": {},
   "outputs": [
    {
     "data": {
      "text/plain": [
       "[[[1, 2], [1, 2, 3], [1, 2, 3, 4]], [[], [1], [1, 2]], [0, [], [1]]]"
      ]
     },
     "execution_count": 7,
     "metadata": {},
     "output_type": "execute_result"
    }
   ],
   "source": [
    "JaTrSet([2,1,1])"
   ]
  },
  {
   "cell_type": "code",
   "execution_count": 8,
   "metadata": {},
   "outputs": [
    {
     "data": {
      "text/plain": [
       "[[[1, 2, 3], [1, 2, 3, 4], [1, 2, 3, 4, 5]], [[], [1], [1, 2]], [0, [], [1]]]"
      ]
     },
     "execution_count": 8,
     "metadata": {},
     "output_type": "execute_result"
    }
   ],
   "source": [
    "JaTrSet([3,1,1])"
   ]
  },
  {
   "cell_type": "code",
   "execution_count": 9,
   "metadata": {},
   "outputs": [],
   "source": [
    "def J_C_matrix(la):\n",
    "    'This function return the matrix of Jacobi-Trudi'\n",
    "    A=[]\n",
    "    for i in range(len(la)):\n",
    "        for j in range(len(la)):\n",
    "            A.append(J_C(la)[i][j])\n",
    "    return matrix(NCSym, len(la),len(la),A)"
   ]
  },
  {
   "cell_type": "code",
   "execution_count": 10,
   "metadata": {},
   "outputs": [
    {
     "data": {
      "text/plain": [
       "[   1/2*h{{1, 2}} 1/6*h{{1, 2, 3}}]\n",
       "[          h{{1}}    1/2*h{{1, 2}}]"
      ]
     },
     "execution_count": 10,
     "metadata": {},
     "output_type": "execute_result"
    }
   ],
   "source": [
    "J_C_matrix([2,2])"
   ]
  },
  {
   "cell_type": "code",
   "execution_count": null,
   "metadata": {},
   "outputs": [],
   "source": []
  },
  {
   "cell_type": "code",
   "execution_count": 11,
   "metadata": {},
   "outputs": [],
   "source": [
    "def act_on_part(sig,setpar):\n",
    "    for a in setpar:\n",
    "        for i in range(len(a)):\n",
    "            a[i]=sig[a[i]-1]\n",
    "    return setpar"
   ]
  },
  {
   "cell_type": "code",
   "execution_count": 12,
   "metadata": {},
   "outputs": [
    {
     "data": {
      "text/plain": [
       "{{1}, {2, 3}}"
      ]
     },
     "execution_count": 12,
     "metadata": {},
     "output_type": "execute_result"
    }
   ],
   "source": [
    "SetPartition(act_on_part([2,1,3],[[1,3],[2]]))\n"
   ]
  },
  {
   "cell_type": "code",
   "execution_count": 13,
   "metadata": {},
   "outputs": [
    {
     "data": {
      "text/plain": [
       "[[2, 3], [1]]"
      ]
     },
     "execution_count": 13,
     "metadata": {},
     "output_type": "execute_result"
    }
   ],
   "source": [
    "act_on_part([2,1,3],[[1,3],[2]])"
   ]
  },
  {
   "cell_type": "code",
   "execution_count": 14,
   "metadata": {},
   "outputs": [],
   "source": [
    "def shifted_concat(A,B):\n",
    "    'Shifted concatenation of the set partitions A and B'\n",
    "    l=0\n",
    "    c=[]\n",
    "    D=A\n",
    "    for a in D:\n",
    "        l=len(a)+l       \n",
    "    for b in B:\n",
    "        for i in b:\n",
    "            c.append(i+l)\n",
    "        D.append(c)\n",
    "        c=[]\n",
    "    return D"
   ]
  },
  {
   "cell_type": "code",
   "execution_count": 15,
   "metadata": {},
   "outputs": [
    {
     "data": {
      "text/plain": [
       "[[1, 3], [2, 4], [5, 6, 7], [8, 10], [9]]"
      ]
     },
     "execution_count": 15,
     "metadata": {},
     "output_type": "execute_result"
    }
   ],
   "source": [
    "A=[[1,3],[2,4]]\n",
    "B=[[1,2,3],[4,6],[5]]\n",
    "shifted_concat(A,B)"
   ]
  },
  {
   "cell_type": "code",
   "execution_count": 16,
   "metadata": {},
   "outputs": [],
   "source": [
    "def parts_of_det(sig,la):\n",
    "    'This gives the constituents of the determinet: the part that comes from the permutation sig'\n",
    "    A=[]\n",
    "    for i in range(len(la)):\n",
    "        A.append([JaTrSet(la)[i][sig[i]-1]])\n",
    "    return A"
   ]
  },
  {
   "cell_type": "code",
   "execution_count": 17,
   "metadata": {},
   "outputs": [
    {
     "data": {
      "text/plain": [
       "[[[1, 2, 3]], [[]], [[1]]]"
      ]
     },
     "execution_count": 17,
     "metadata": {},
     "output_type": "execute_result"
    }
   ],
   "source": [
    "parts_of_det([2,1,3],[2,1,1])\n"
   ]
  },
  {
   "cell_type": "code",
   "execution_count": null,
   "metadata": {},
   "outputs": [],
   "source": []
  },
  {
   "cell_type": "code",
   "execution_count": 18,
   "metadata": {},
   "outputs": [],
   "source": [
    "def concat_parts_of_det(sig,la):\n",
    "    'This is the entry that correspond to the permutation sig in the determinent'\n",
    "    'This return 0 if it has a 0 constituent'\n",
    "    C=[]\n",
    "    if [0] in parts_of_det(sig,la):\n",
    "        return 0\n",
    "    if [0] not in parts_of_det(sig,la):\n",
    "        for A in parts_of_det(sig,la):\n",
    "            if A!=[[]]:\n",
    "                C=shifted_concat(C,A)         \n",
    "    return C"
   ]
  },
  {
   "cell_type": "code",
   "execution_count": 19,
   "metadata": {},
   "outputs": [
    {
     "data": {
      "text/plain": [
       "0"
      ]
     },
     "execution_count": 19,
     "metadata": {},
     "output_type": "execute_result"
    }
   ],
   "source": [
    "concat_parts_of_det([2,3,1],[2,1,1])"
   ]
  },
  {
   "cell_type": "code",
   "execution_count": 20,
   "metadata": {},
   "outputs": [],
   "source": [
    "def act_concat_parts_of_det(delt, sig,la):\n",
    "    'delta acts on the set partition  parts_of_det(sig,la)'\n",
    "    if concat_parts_of_det(sig,la)==0:\n",
    "        return 0\n",
    "    return act_on_part(delt,concat_parts_of_det(sig,la))"
   ]
  },
  {
   "cell_type": "code",
   "execution_count": 21,
   "metadata": {},
   "outputs": [
    {
     "data": {
      "text/plain": [
       "-h{{1, 4}, {2, 3}}"
      ]
     },
     "execution_count": 21,
     "metadata": {},
     "output_type": "execute_result"
    }
   ],
   "source": [
    "Permutation([2,1,3]).sign()*h(SetPartition(act_concat_parts_of_det([2,3,1,4], Permutation([1,3,2]),[2,1,1])))\n"
   ]
  },
  {
   "cell_type": "code",
   "execution_count": 22,
   "metadata": {},
   "outputs": [
    {
     "name": "stdout",
     "output_type": "stream",
     "text": [
      "[1, 2, 3]\n",
      "[[2, 3], [1], [4]]\n",
      "[1, 3, 2]\n",
      "[[2, 3], [1, 4]]\n",
      "[2, 1, 3]\n",
      "[[2, 3, 1], [4]]\n",
      "[2, 3, 1]\n",
      "0\n",
      "[3, 1, 2]\n",
      "[[2, 3, 1, 4]]\n",
      "[3, 2, 1]\n",
      "0\n"
     ]
    }
   ],
   "source": [
    "for sig in Permutations(len([2,1,1])):\n",
    "    print sig\n",
    "    print act_concat_parts_of_det([2,3,1,4], sig,[2,1,1])"
   ]
  },
  {
   "cell_type": "code",
   "execution_count": 23,
   "metadata": {},
   "outputs": [],
   "source": [
    "def factorial_SetP(SetPar):\n",
    "    c=1\n",
    "    for a in  SetPar:\n",
    "        c=c*factorial(len(a))\n",
    "    return c"
   ]
  },
  {
   "cell_type": "code",
   "execution_count": 24,
   "metadata": {},
   "outputs": [
    {
     "data": {
      "text/plain": [
       "6"
      ]
     },
     "execution_count": 24,
     "metadata": {},
     "output_type": "execute_result"
    }
   ],
   "source": [
    "factorial_SetP([[4, 1, 3], [2]])"
   ]
  },
  {
   "cell_type": "code",
   "execution_count": 25,
   "metadata": {},
   "outputs": [],
   "source": [
    "def Jacobi_Trudi(delt,la):\n",
    "    'This takes a relabeling delt and acts on the matrix of trivials corresponding to la'\n",
    "    s=0\n",
    "    for sig in Permutations(len(la)):\n",
    "        a=act_concat_parts_of_det(delt, sig,la)\n",
    "        if a!=0:\n",
    "            s=s+(1/factorial_SetP(a))*sig.sign()*h(SetPartition(a))\n",
    "    return s   "
   ]
  },
  {
   "cell_type": "code",
   "execution_count": 26,
   "metadata": {},
   "outputs": [
    {
     "data": {
      "text/plain": [
       "1/2*h{{1, 2}, {3}, {4}} - 1/4*h{{1, 2}, {3, 4}} - 1/6*h{{1, 2, 3}, {4}} + 1/24*h{{1, 2, 3, 4}}"
      ]
     },
     "execution_count": 26,
     "metadata": {},
     "output_type": "execute_result"
    }
   ],
   "source": [
    "Jacobi_Trudi([1,2,3,4],[2,1,1])\n",
    "           \n",
    "        \n",
    "        \n",
    "        "
   ]
  },
  {
   "cell_type": "code",
   "execution_count": null,
   "metadata": {},
   "outputs": [],
   "source": [
    "\n",
    "    "
   ]
  },
  {
   "cell_type": "code",
   "execution_count": 27,
   "metadata": {},
   "outputs": [],
   "source": [
    "def appending_max(pi):\n",
    "    S=[]\n",
    "    T=[]\n",
    "    X=[]\n",
    "    for a in pi:\n",
    "        if len(a)==max([len(b) for b in pi]):\n",
    "            X.append(a)\n",
    "            for i in a:\n",
    "                S.append(i)\n",
    "    for c in pi:\n",
    "        if c not in X:\n",
    "            T.append(c)\n",
    "    return [S,T]"
   ]
  },
  {
   "cell_type": "code",
   "execution_count": 28,
   "metadata": {},
   "outputs": [],
   "source": [
    "def Steph_relabeling(pi):\n",
    "    'This gives the relabeling that Stph discovered'\n",
    "    T=pi\n",
    "    S=[]\n",
    "    while len(T)>0:\n",
    "        [R,T]=appending_max(T)\n",
    "        for i in R:\n",
    "            S.append(i)\n",
    "    return S\n",
    "        \n",
    "    "
   ]
  },
  {
   "cell_type": "code",
   "execution_count": 29,
   "metadata": {},
   "outputs": [],
   "source": [
    "def S_pi(pi):\n",
    "    'This fucntion gives Shurs with the relabeling that Steph discovered'\n",
    "    return Jacobi_Trudi(Steph_relabeling(pi),SetPartition(pi).shape())\n",
    "    "
   ]
  },
  {
   "cell_type": "code",
   "execution_count": 30,
   "metadata": {},
   "outputs": [
    {
     "data": {
      "text/plain": [
       "[2, 3, 1, 4]"
      ]
     },
     "execution_count": 30,
     "metadata": {},
     "output_type": "execute_result"
    }
   ],
   "source": [
    "Steph_relabeling([[1],[2,3],[4]])\n"
   ]
  },
  {
   "cell_type": "code",
   "execution_count": 31,
   "metadata": {},
   "outputs": [
    {
     "data": {
      "text/plain": [
       "[2, 3, 4, 6, 1, 5]"
      ]
     },
     "execution_count": 31,
     "metadata": {},
     "output_type": "execute_result"
    }
   ],
   "source": [
    "Steph_relabeling([[1,5],[2,3,4,6]])"
   ]
  },
  {
   "cell_type": "code",
   "execution_count": null,
   "metadata": {},
   "outputs": [],
   "source": []
  },
  {
   "cell_type": "code",
   "execution_count": 32,
   "metadata": {},
   "outputs": [
    {
     "data": {
      "text/plain": [
       "1/2*h{{1}, {2, 3}, {4}} - 1/6*h{{1, 2, 3}, {4}} + 1/24*h{{1, 2, 3, 4}} - 1/4*h{{1, 4}, {2, 3}}"
      ]
     },
     "execution_count": 32,
     "metadata": {},
     "output_type": "execute_result"
    }
   ],
   "source": [
    "S_pi([[2,3],[1],[4]])"
   ]
  },
  {
   "cell_type": "code",
   "execution_count": 33,
   "metadata": {},
   "outputs": [
    {
     "data": {
      "text/plain": [
       "-1/6*h{{1, 2, 3}, {4}} + 1/24*h{{1, 2, 3, 4}} + 1/2*h{{1, 3}, {2}, {4}} - 1/4*h{{1, 3}, {2, 4}}"
      ]
     },
     "execution_count": 33,
     "metadata": {},
     "output_type": "execute_result"
    }
   ],
   "source": [
    "S_pi([[1,3],[2],[4]])"
   ]
  },
  {
   "cell_type": "code",
   "execution_count": 34,
   "metadata": {},
   "outputs": [],
   "source": [
    "def S_labeling_pi(delt,pi):\n",
    "    return Jacobi_Trudi(delt,SetPartition(pi).shape())\n",
    "    \n",
    "    "
   ]
  },
  {
   "cell_type": "code",
   "execution_count": 35,
   "metadata": {},
   "outputs": [
    {
     "data": {
      "text/plain": [
       "-1/6*h{{1}, {2, 3, 4}} + 1/2*h{{1}, {2, 4}, {3}} + 1/24*h{{1, 2, 3, 4}} - 1/4*h{{1, 3}, {2, 4}}"
      ]
     },
     "execution_count": 35,
     "metadata": {},
     "output_type": "execute_result"
    }
   ],
   "source": [
    "S_labeling_pi([4,2,3,1],[[1,3],[2],[4]])"
   ]
  },
  {
   "cell_type": "code",
   "execution_count": 36,
   "metadata": {},
   "outputs": [
    {
     "data": {
      "text/plain": [
       "{{1}, {2, 3}, {4}}"
      ]
     },
     "execution_count": 36,
     "metadata": {},
     "output_type": "execute_result"
    }
   ],
   "source": [
    "SetPartition([ [2,3],[1],[4] ])"
   ]
  },
  {
   "cell_type": "code",
   "execution_count": 37,
   "metadata": {},
   "outputs": [
    {
     "data": {
      "text/plain": [
       "1/8*p{{1}, {2}, {3}, {4}} - 1/8*p{{1}, {2}, {3, 4}} - 1/8*p{{1}, {2, 3}, {4}} - 1/4*p{{1}, {2, 3, 4}} + 1/8*p{{1}, {2, 4}, {3}} + 1/24*p{{1, 2}, {3}, {4}} + 1/24*p{{1, 2}, {3, 4}} + 1/12*p{{1, 2, 3}, {4}} + 1/4*p{{1, 2, 3, 4}} + 1/12*p{{1, 2, 4}, {3}} - 5/24*p{{1, 3}, {2}, {4}} - 5/24*p{{1, 3}, {2, 4}} + 1/12*p{{1, 3, 4}, {2}} + 1/24*p{{1, 4}, {2}, {3}} + 1/24*p{{1, 4}, {2, 3}}"
      ]
     },
     "execution_count": 37,
     "metadata": {},
     "output_type": "execute_result"
    }
   ],
   "source": [
    "p(S_labeling_pi([4,2,3,1],[[1,3],[2],[4]]))"
   ]
  },
  {
   "cell_type": "code",
   "execution_count": 38,
   "metadata": {},
   "outputs": [
    {
     "data": {
      "text/plain": [
       "1/12*e{{1}, {2}, {3, 4}} + 1/12*e{{1}, {2, 3}, {4}} - 1/12*e{{1}, {2, 3, 4}} + 1/12*e{{1}, {2, 4}, {3}} - 1/4*e{{1, 2}, {3}, {4}} + 1/12*e{{1, 2}, {3, 4}} + 1/12*e{{1, 2, 3}, {4}} - 1/24*e{{1, 2, 3, 4}} + 1/12*e{{1, 2, 4}, {3}} + 1/4*e{{1, 3}, {2}, {4}} - 1/6*e{{1, 3}, {2, 4}} + 1/12*e{{1, 3, 4}, {2}} - 1/4*e{{1, 4}, {2}, {3}} + 1/12*e{{1, 4}, {2, 3}}"
      ]
     },
     "execution_count": 38,
     "metadata": {},
     "output_type": "execute_result"
    }
   ],
   "source": [
    "e(S_labeling_pi([4,2,3,1],[[1,3],[2],[4]]))"
   ]
  },
  {
   "cell_type": "code",
   "execution_count": 39,
   "metadata": {},
   "outputs": [
    {
     "data": {
      "text/plain": [
       "1/8*m{{1}, {2}, {3}, {4}} - 1/4*m{{1}, {2, 3, 4}} + 1/4*m{{1}, {2, 4}, {3}} + 1/6*m{{1, 2}, {3}, {4}} + 1/12*m{{1, 2}, {3, 4}} - 1/12*m{{1, 2, 3}, {4}} + 5/12*m{{1, 2, 4}, {3}} - 1/12*m{{1, 3}, {2}, {4}} - 1/6*m{{1, 3}, {2, 4}} - 1/12*m{{1, 3, 4}, {2}} + 1/6*m{{1, 4}, {2}, {3}} + 1/12*m{{1, 4}, {2, 3}}"
      ]
     },
     "execution_count": 39,
     "metadata": {},
     "output_type": "execute_result"
    }
   ],
   "source": [
    "m(p(S_labeling_pi([4,2,3,1],[[1,3],[2],[4]])))"
   ]
  },
  {
   "cell_type": "code",
   "execution_count": 40,
   "metadata": {},
   "outputs": [
    {
     "data": {
      "text/plain": [
       "1/8*m{{1}, {2}, {3}, {4}} + 1/6*m{{1}, {2}, {3, 4}} + 1/4*m{{1}, {2, 3}, {4}} + 5/12*m{{1}, {2, 3, 4}} + 1/6*m{{1}, {2, 4}, {3}} + 1/12*m{{1, 2}, {3, 4}} - 1/4*m{{1, 2, 3}, {4}} - 1/12*m{{1, 2, 4}, {3}} + 1/12*m{{1, 3}, {2, 4}} - 1/12*m{{1, 3, 4}, {2}} - 1/12*m{{1, 4}, {2}, {3}} - 1/6*m{{1, 4}, {2, 3}}"
      ]
     },
     "execution_count": 40,
     "metadata": {},
     "output_type": "execute_result"
    }
   ],
   "source": [
    "m(S_pi([[2,3],[1],[4]]))"
   ]
  },
  {
   "cell_type": "code",
   "execution_count": 41,
   "metadata": {},
   "outputs": [
    {
     "data": {
      "text/plain": [
       "1/24*m{{1}, {2}, {3}, {4}, {5}} + 1/24*m{{1}, {2}, {3}, {4, 5}} + 1/24*m{{1}, {2}, {3, 4}, {5}} + 1/12*m{{1}, {2}, {3, 4, 5}} + 1/12*m{{1}, {2}, {3, 5}, {4}} + 1/12*m{{1}, {2, 3}, {4}, {5}} + 1/12*m{{1}, {2, 3}, {4, 5}} + 1/12*m{{1}, {2, 3, 4}, {5}} + 1/4*m{{1}, {2, 3, 4, 5}} + 1/4*m{{1}, {2, 3, 5}, {4}} + 1/24*m{{1}, {2, 4}, {3}, {5}} + 1/12*m{{1}, {2, 4}, {3, 5}} + 1/12*m{{1}, {2, 4, 5}, {3}} + 1/12*m{{1}, {2, 5}, {3}, {4}} + 1/12*m{{1}, {2, 5}, {3, 4}} - 1/12*m{{1, 2, 3}, {4}, {5}} - 1/12*m{{1, 2, 3}, {4, 5}} + 1/12*m{{1, 2, 3, 4}, {5}} - 1/2*m{{1, 2, 3, 5}, {4}} + 1/12*m{{1, 2, 4}, {3}, {5}} + 1/6*m{{1, 2, 4}, {3, 5}} + 1/12*m{{1, 2, 4, 5}, {3}} - 1/12*m{{1, 2, 5}, {3}, {4}} - 1/12*m{{1, 2, 5}, {3, 4}} + 1/12*m{{1, 3, 4}, {2}, {5}} + 1/6*m{{1, 3, 4}, {2, 5}} + 1/12*m{{1, 3, 4, 5}, {2}} - 1/12*m{{1, 3, 5}, {2}, {4}} - 1/12*m{{1, 3, 5}, {2, 4}} + 1/8*m{{1, 4}, {2}, {3}, {5}} + 1/4*m{{1, 4}, {2}, {3, 5}} + 1/4*m{{1, 4}, {2, 3}, {5}} + 3/4*m{{1, 4}, {2, 3, 5}} + 1/4*m{{1, 4}, {2, 5}, {3}} + 1/12*m{{1, 4, 5}, {2}, {3}} + 1/6*m{{1, 4, 5}, {2, 3}}"
      ]
     },
     "execution_count": 41,
     "metadata": {},
     "output_type": "execute_result"
    }
   ],
   "source": [
    "m(S_pi([[1,4],[2,3,5]]))"
   ]
  },
  {
   "cell_type": "code",
   "execution_count": 42,
   "metadata": {},
   "outputs": [
    {
     "data": {
      "text/plain": [
       "4140"
      ]
     },
     "execution_count": 42,
     "metadata": {},
     "output_type": "execute_result"
    }
   ],
   "source": [
    "SetPartitions(8).cardinality()"
   ]
  },
  {
   "cell_type": "code",
   "execution_count": 43,
   "metadata": {},
   "outputs": [
    {
     "data": {
      "text/plain": [
       "1/2*h{{1, 2}, {3}, {4}} - 1/4*h{{1, 2}, {3, 4}} - 1/6*h{{1, 2, 3}, {4}} + 1/24*h{{1, 2, 3, 4}}"
      ]
     },
     "execution_count": 43,
     "metadata": {},
     "output_type": "execute_result"
    }
   ],
   "source": [
    "S_labeling_pi([1,2,3,4],[[1,3],[2],[4]])"
   ]
  },
  {
   "cell_type": "code",
   "execution_count": 44,
   "metadata": {},
   "outputs": [
    {
     "data": {
      "text/plain": [
       "1/4*h{{1, 2}, {3}, {4}, {5, 6}, {7}, {8}} - 1/8*h{{1, 2}, {3}, {4}, {5, 6}, {7, 8}} - 1/12*h{{1, 2}, {3}, {4}, {5, 6, 7}, {8}} + 1/48*h{{1, 2}, {3}, {4}, {5, 6, 7, 8}} - 1/8*h{{1, 2}, {3, 4}, {5, 6}, {7}, {8}} + 1/16*h{{1, 2}, {3, 4}, {5, 6}, {7, 8}} + 1/24*h{{1, 2}, {3, 4}, {5, 6, 7}, {8}} - 1/96*h{{1, 2}, {3, 4}, {5, 6, 7, 8}} - 1/12*h{{1, 2, 3}, {4}, {5, 6}, {7}, {8}} + 1/24*h{{1, 2, 3}, {4}, {5, 6}, {7, 8}} + 1/36*h{{1, 2, 3}, {4}, {5, 6, 7}, {8}} - 1/144*h{{1, 2, 3}, {4}, {5, 6, 7, 8}} + 1/48*h{{1, 2, 3, 4}, {5, 6}, {7}, {8}} - 1/96*h{{1, 2, 3, 4}, {5, 6}, {7, 8}} - 1/144*h{{1, 2, 3, 4}, {5, 6, 7}, {8}} + 1/576*h{{1, 2, 3, 4}, {5, 6, 7, 8}}"
      ]
     },
     "execution_count": 44,
     "metadata": {},
     "output_type": "execute_result"
    }
   ],
   "source": [
    "S_labeling_pi([1,2,3,4],[[1,3],[2],[4]])*S_labeling_pi([1,2,3,4],[[1,3],[2],[4]])"
   ]
  },
  {
   "cell_type": "code",
   "execution_count": 45,
   "metadata": {},
   "outputs": [
    {
     "data": {
      "text/plain": [
       "2/3*x0^2*x1 + 2/3*x0^2*x2 + 1/6*x0*x1*x0 + 1/6*x0*x1^2 + 1/3*x0*x1*x2 + 1/6*x0*x2*x0 + 1/3*x0*x2*x1 + 1/6*x0*x2^2 + 1/6*x1*x0^2 + 1/6*x1*x0*x1 + 1/3*x1*x0*x2 + 2/3*x1^2*x0 + 2/3*x1^2*x2 + 1/3*x1*x2*x0 + 1/6*x1*x2*x1 + 1/6*x1*x2^2 + 1/6*x2*x0^2 + 1/3*x2*x0*x1 + 1/6*x2*x0*x2 + 1/3*x2*x1*x0 + 1/6*x2*x1^2 + 1/6*x2*x1*x2 + 2/3*x2^2*x0 + 2/3*x2^2*x1"
      ]
     },
     "execution_count": 45,
     "metadata": {},
     "output_type": "execute_result"
    }
   ],
   "source": [
    "S_labeling_pi([1,2,3],[[1,2],[3]]).expand(3)"
   ]
  },
  {
   "cell_type": "code",
   "execution_count": 46,
   "metadata": {},
   "outputs": [
    {
     "data": {
      "text/plain": [
       "2/3*x0^2*x1 + 2/3*x0^2*x2 + 2/3*x0^2*x3 + 1/6*x0*x1*x0 + 1/6*x0*x1^2 + 1/3*x0*x1*x2 + 1/3*x0*x1*x3 + 1/6*x0*x2*x0 + 1/3*x0*x2*x1 + 1/6*x0*x2^2 + 1/3*x0*x2*x3 + 1/6*x0*x3*x0 + 1/3*x0*x3*x1 + 1/3*x0*x3*x2 + 1/6*x0*x3^2 + 1/6*x1*x0^2 + 1/6*x1*x0*x1 + 1/3*x1*x0*x2 + 1/3*x1*x0*x3 + 2/3*x1^2*x0 + 2/3*x1^2*x2 + 2/3*x1^2*x3 + 1/3*x1*x2*x0 + 1/6*x1*x2*x1 + 1/6*x1*x2^2 + 1/3*x1*x2*x3 + 1/3*x1*x3*x0 + 1/6*x1*x3*x1 + 1/3*x1*x3*x2 + 1/6*x1*x3^2 + 1/6*x2*x0^2 + 1/3*x2*x0*x1 + 1/6*x2*x0*x2 + 1/3*x2*x0*x3 + 1/3*x2*x1*x0 + 1/6*x2*x1^2 + 1/6*x2*x1*x2 + 1/3*x2*x1*x3 + 2/3*x2^2*x0 + 2/3*x2^2*x1 + 2/3*x2^2*x3 + 1/3*x2*x3*x0 + 1/3*x2*x3*x1 + 1/6*x2*x3*x2 + 1/6*x2*x3^2 + 1/6*x3*x0^2 + 1/3*x3*x0*x1 + 1/3*x3*x0*x2 + 1/6*x3*x0*x3 + 1/3*x3*x1*x0 + 1/6*x3*x1^2 + 1/3*x3*x1*x2 + 1/6*x3*x1*x3 + 1/3*x3*x2*x0 + 1/3*x3*x2*x1 + 1/6*x3*x2^2 + 1/6*x3*x2*x3 + 2/3*x3^2*x0 + 2/3*x3^2*x1 + 2/3*x3^2*x2"
      ]
     },
     "execution_count": 46,
     "metadata": {},
     "output_type": "execute_result"
    }
   ],
   "source": [
    "J_C_matrix([2,1]).determinant().expand(4)"
   ]
  },
  {
   "cell_type": "code",
   "execution_count": 47,
   "metadata": {},
   "outputs": [
    {
     "data": {
      "text/plain": [
       "1/2*h{{1, 2}, {3}} - 1/6*h{{1, 2, 3}}"
      ]
     },
     "execution_count": 47,
     "metadata": {},
     "output_type": "execute_result"
    }
   ],
   "source": [
    "J_C_matrix([2,1]).determinant()"
   ]
  },
  {
   "cell_type": "code",
   "execution_count": 48,
   "metadata": {},
   "outputs": [
    {
     "data": {
      "text/plain": [
       "1/36*h{{1, 2, 3}, {4, 5, 6}} - 1/48*h{{1, 2, 3, 4}, {5, 6}}"
      ]
     },
     "execution_count": 48,
     "metadata": {},
     "output_type": "execute_result"
    }
   ],
   "source": [
    "S_labeling_pi([1,2,3,4,5,6],[ [1,3,6],[2,4,5] ])"
   ]
  },
  {
   "cell_type": "code",
   "execution_count": null,
   "metadata": {},
   "outputs": [],
   "source": []
  },
  {
   "cell_type": "code",
   "execution_count": 49,
   "metadata": {},
   "outputs": [
    {
     "data": {
      "text/plain": [
       "[[[1, 2, 3], [1, 2, 3, 4]], [[1], [1, 2]]]"
      ]
     },
     "execution_count": 49,
     "metadata": {},
     "output_type": "execute_result"
    }
   ],
   "source": [
    "JaTrSet([3,2])"
   ]
  },
  {
   "cell_type": "code",
   "execution_count": 50,
   "metadata": {},
   "outputs": [
    {
     "data": {
      "text/plain": [
       "[[1, 2, 3, 4], [5, 6], [7]]"
      ]
     },
     "execution_count": 50,
     "metadata": {},
     "output_type": "execute_result"
    }
   ],
   "source": [
    "concat_parts_of_det([1,2,3],[4,2,1])"
   ]
  },
  {
   "cell_type": "code",
   "execution_count": 51,
   "metadata": {},
   "outputs": [],
   "source": [
    "def coeff_of_h_trivial_permutation(sig,la):\n",
    "    \"This function looks at the term in Jacobi Trudi that corresponds to Permutation sig and teturn [the coeff,setpar]\"\n",
    "    \"Also, it returns [0,0] if the component is 0\"\n",
    "    A=concat_parts_of_det(sig,la)\n",
    "    if A==0:\n",
    "        return [0,0]\n",
    "    if A!=0:\n",
    "        return [1/(factorial_SetP(A))*Permutation(sig).sign(),A]\n",
    "        \n",
    "        "
   ]
  },
  {
   "cell_type": "code",
   "execution_count": 52,
   "metadata": {},
   "outputs": [
    {
     "data": {
      "text/plain": [
       "[0, 0]"
      ]
     },
     "execution_count": 52,
     "metadata": {},
     "output_type": "execute_result"
    }
   ],
   "source": [
    " coeff_of_h_trivial_permutation([2,3,1,4],[4,2,1,1])"
   ]
  },
  {
   "cell_type": "code",
   "execution_count": null,
   "metadata": {},
   "outputs": [],
   "source": [
    "\n",
    "    "
   ]
  },
  {
   "cell_type": "code",
   "execution_count": 53,
   "metadata": {},
   "outputs": [],
   "source": [
    "def finding_n_for_pi(pi):\n",
    "    s=0\n",
    "    for a in pi:\n",
    "        s=s+len(a)\n",
    "    return s\n",
    "    "
   ]
  },
  {
   "cell_type": "code",
   "execution_count": null,
   "metadata": {},
   "outputs": [],
   "source": []
  },
  {
   "cell_type": "code",
   "execution_count": 54,
   "metadata": {},
   "outputs": [],
   "source": [
    "def position_pi_in_partitions(pi):\n",
    "    \"this functions retunr i in A[i] where A is the list of partitions\"\n",
    "    i=0\n",
    "    for A in SetPartitions(finding_n_for_pi(pi)):\n",
    "        if A==SetPartition(pi):\n",
    "            return i\n",
    "        if A!=SetPartition(pi):\n",
    "            i=i+1\n",
    "    return i\n",
    "        "
   ]
  },
  {
   "cell_type": "code",
   "execution_count": 55,
   "metadata": {},
   "outputs": [
    {
     "data": {
      "text/plain": [
       "2"
      ]
     },
     "execution_count": 55,
     "metadata": {},
     "output_type": "execute_result"
    }
   ],
   "source": [
    "position_pi_in_partitions([[1,2,3,5],[4]])"
   ]
  },
  {
   "cell_type": "code",
   "execution_count": 56,
   "metadata": {},
   "outputs": [],
   "source": [
    "def s_trivial_la(la):\n",
    "    \"This functions returns the coordinate vector of s_trivial_pi to h basis\"\n",
    "    s=0\n",
    "    for a in la:\n",
    "        s=s+len(la)\n",
    "    for i in range(len(SetPartitions(s))):\n",
    "        L.append(0)\n",
    "    for sig in Permutations(len(la)):\n",
    "        if coeff_of_h_trivial_permutation(sig,la)!=[0,0]:\n",
    "            L[position_pi_in_partitions(coeff_of_h_trivial_permutation(sig,la)[1])]=coeff_of_h_trivial_permutation(sig,la)[0]\n",
    "    return L  \n",
    "            "
   ]
  },
  {
   "cell_type": "code",
   "execution_count": 57,
   "metadata": {},
   "outputs": [],
   "source": [
    "def s_delt_la_h(delt,la):\n",
    "    'This takes a relabeling delt and returns [coeff, partition] in writing s_delt_la in terms of h basis'\n",
    "    L=[]\n",
    "    for sig in Permutations(len(la)):\n",
    "        a=act_concat_parts_of_det(delt, sig,la)\n",
    "        if a!=0:\n",
    "            L.append([(1/factorial_SetP(a))*sig.sign(), a])\n",
    "    return L \n"
   ]
  },
  {
   "cell_type": "code",
   "execution_count": 58,
   "metadata": {},
   "outputs": [
    {
     "data": {
      "text/plain": [
       "[[1/2, [[1, 2], [3]]], [-1/6, [[1, 2, 3]]]]"
      ]
     },
     "execution_count": 58,
     "metadata": {},
     "output_type": "execute_result"
    }
   ],
   "source": [
    "s_delt_la_h(Steph_relabeling([[1,2],[3]]),[2,1])"
   ]
  },
  {
   "cell_type": "code",
   "execution_count": 59,
   "metadata": {},
   "outputs": [
    {
     "data": {
      "text/plain": [
       "1/2*h{{1, 2}, {3}} - 1/6*h{{1, 2, 3}}"
      ]
     },
     "execution_count": 59,
     "metadata": {},
     "output_type": "execute_result"
    }
   ],
   "source": [
    "S_pi([[1,2],[3]])"
   ]
  },
  {
   "cell_type": "code",
   "execution_count": 60,
   "metadata": {},
   "outputs": [],
   "source": [
    "def s_pi_h_vector(pi):\n",
    "    \"This function returns the coordinate vector of s_pi in terms of h basis\"\n",
    "    L=[]\n",
    "    s=0\n",
    "    for a in pi:\n",
    "        s=s+len(a)\n",
    "    for i in range(len(SetPartitions(s))):\n",
    "        L.append(0)\n",
    "    for a in s_delt_la_h(Steph_relabeling(pi),SetPartition(pi).shape()):\n",
    "        L[position_pi_in_partitions(a[1])]=a[0]\n",
    "    return L"
   ]
  },
  {
   "cell_type": "code",
   "execution_count": 61,
   "metadata": {},
   "outputs": [
    {
     "name": "stdout",
     "output_type": "stream",
     "text": [
      "[0, 0, -1/24, 0, 0, 0, 0, 0, 0, 0, 0, 0, 0, 0, 0, 0, 0, 0, 1/12, 0, 0, 0, 0, 0, 0, 0, 0, 0, 0, 0, 0, 0, 0, 0, 0, 0, 0, 0, 0, 0, 0, 0, 0, 0, 0, 0, 0, 0, 0, 0, 0, 0]\n",
      "-1/24*h{{1, 2, 3, 5}, {4}} + 1/12*h{{1, 3, 5}, {2, 4}}\n"
     ]
    }
   ],
   "source": [
    "print s_pi_h_vector([[1,3,5],[2,4]])\n",
    "print S_pi([[1,3,5],[2,4]])"
   ]
  },
  {
   "cell_type": "code",
   "execution_count": 62,
   "metadata": {},
   "outputs": [],
   "source": [
    "def transition_matrix_from_s_to_h(n):\n",
    "    'This funcrion takes n and return the transition matrix form {s_pi} to {h_pi}'\n",
    "    M=[]\n",
    "    for pi in SetPartitions(n):\n",
    "        M.append(s_pi_h_vector(pi.standard_form()))\n",
    "    return matrix(M).transpose()\n",
    "        "
   ]
  },
  {
   "cell_type": "raw",
   "metadata": {},
   "source": []
  },
  {
   "cell_type": "code",
   "execution_count": 63,
   "metadata": {},
   "outputs": [
    {
     "name": "stdout",
     "output_type": "stream",
     "text": [
      "[[1, 2, 3]]\n",
      "[[1, 2], [3]]\n",
      "[[1, 3], [2]]\n",
      "[[1], [2, 3]]\n",
      "[[1], [2], [3]]\n"
     ]
    }
   ],
   "source": [
    "for a in SetPartitions(3):\n",
    "    print a.standard_form()\n"
   ]
  },
  {
   "cell_type": "code",
   "execution_count": 64,
   "metadata": {},
   "outputs": [
    {
     "data": {
      "text/plain": [
       "[ 1/24 -1/24 -1/24     0  1/24 -1/24     0  1/24     0 -1/24  1/24  1/24  1/24  1/24 -1/24]\n",
       "[    0   1/6     0  -1/6  -1/6     0  -1/6  -1/6     0     0  -1/6     0     0     0   1/6]\n",
       "[    0     0   1/6     0     0     0     0     0  -1/6     0     0  -1/6  -1/6     0     0]\n",
       "[    0     0     0   1/4  -1/4     0     0     0     0     0     0     0     0  -1/4   1/4]\n",
       "[    0     0     0     0   1/2     0     0     0     0     0     0     0     0     0  -1/2]\n",
       "[    0     0     0     0     0   1/6     0     0     0     0     0     0     0  -1/6     0]\n",
       "[    0     0     0     0     0     0   1/4  -1/4     0     0     0     0  -1/4     0     0]\n",
       "[    0     0     0     0     0     0     0   1/2     0     0     0     0     0     0     0]\n",
       "[    0     0     0     0     0     0     0     0   1/4     0  -1/4  -1/4     0     0     0]\n",
       "[    0     0     0     0     0     0     0     0     0   1/6     0     0     0     0   1/6]\n",
       "[    0     0     0     0     0     0     0     0     0     0   1/2     0     0     0  -1/2]\n",
       "[    0     0     0     0     0     0     0     0     0     0     0   1/2     0     0     0]\n",
       "[    0     0     0     0     0     0     0     0     0     0     0     0   1/2     0     0]\n",
       "[    0     0     0     0     0     0     0     0     0     0     0     0     0   1/2  -1/2]\n",
       "[    0     0     0     0     0     0     0     0     0     0     0     0     0     0     1]"
      ]
     },
     "execution_count": 64,
     "metadata": {},
     "output_type": "execute_result"
    }
   ],
   "source": [
    "transition_matrix_from_s_to_h(4)"
   ]
  },
  {
   "cell_type": "code",
   "execution_count": null,
   "metadata": {},
   "outputs": [],
   "source": [
    "\n",
    "    \n",
    "    \n",
    "    "
   ]
  },
  {
   "cell_type": "code",
   "execution_count": null,
   "metadata": {},
   "outputs": [],
   "source": []
  },
  {
   "cell_type": "code",
   "execution_count": 65,
   "metadata": {},
   "outputs": [],
   "source": [
    "def S_pi_coeff_h(pi):\n",
    "    \"This function returns [coeff,pi] when we write S_pi in terms of h\" \n",
    "    return s_delt_la_h(Steph_relabeling(pi),SetPartition(pi).shape())"
   ]
  },
  {
   "cell_type": "code",
   "execution_count": 66,
   "metadata": {},
   "outputs": [
    {
     "data": {
      "text/plain": [
       "[[1/4, [[2, 3], [1, 4]]], [-1/6, [[2, 3, 1], [4]]]]"
      ]
     },
     "execution_count": 66,
     "metadata": {},
     "output_type": "execute_result"
    }
   ],
   "source": [
    "S_pi_coeff_h([[2,3],[1,4]])"
   ]
  },
  {
   "cell_type": "code",
   "execution_count": 67,
   "metadata": {},
   "outputs": [],
   "source": [
    "def A_plus_i(b,k):\n",
    "    L=[]\n",
    "    D=[]\n",
    "    for i in b:\n",
    "        for j in i:\n",
    "            L.append(j+k)\n",
    "        D.append(L)\n",
    "        L=[]\n",
    "    return D  \n",
    "\n",
    "def size_A(a):\n",
    "    s=0\n",
    "    for i in a:\n",
    "        s=s+len(i)\n",
    "    return s"
   ]
  },
  {
   "cell_type": "code",
   "execution_count": 68,
   "metadata": {},
   "outputs": [],
   "source": [
    "def S_prod_coeff_h(pi,qi):\n",
    "    \"This function returns [coeff,pi] when we write S_pi*S_pi1 in terms of h\" \n",
    "    L=[]\n",
    "    for a in S_pi_coeff_h(pi):\n",
    "         for b in S_pi_coeff_h(qi):\n",
    "                L.append([a[0]*b[0],a[1]+A_plus_i(b[1],size_A(a[1]))])\n",
    "    return L\n",
    "                \n",
    "        "
   ]
  },
  {
   "cell_type": "code",
   "execution_count": 69,
   "metadata": {},
   "outputs": [],
   "source": [
    "def s_prod_h_vector(pi,qi):\n",
    "    \"This function return the coordinate vector of s_pi in terms of h basis\"\n",
    "    L=[]\n",
    "    s=0\n",
    "    for a in pi:\n",
    "        s=s+len(a)\n",
    "    for b in qi:\n",
    "        s=s+len(b)\n",
    "    for i in range(len(SetPartitions(s))):\n",
    "        L.append(0)\n",
    "    for a in S_prod_coeff_h(pi,qi):\n",
    "        c=L[position_pi_in_partitions(a[1])]\n",
    "        L[position_pi_in_partitions(a[1])]=c+a[0]\n",
    "    return matrix(L).transpose()"
   ]
  },
  {
   "cell_type": "code",
   "execution_count": null,
   "metadata": {},
   "outputs": [],
   "source": []
  },
  {
   "cell_type": "code",
   "execution_count": null,
   "metadata": {},
   "outputs": [],
   "source": []
  },
  {
   "cell_type": "code",
   "execution_count": null,
   "metadata": {},
   "outputs": [],
   "source": []
  },
  {
   "cell_type": "code",
   "execution_count": 70,
   "metadata": {},
   "outputs": [
    {
     "data": {
      "text/plain": [
       "[[1/4, [[1, 3], [2, 4]]], [-1/6, [[1, 3, 2], [4]]]]"
      ]
     },
     "execution_count": 70,
     "metadata": {},
     "output_type": "execute_result"
    }
   ],
   "source": [
    "S_pi_coeff_h([[1,3],[2,4]])"
   ]
  },
  {
   "cell_type": "code",
   "execution_count": 71,
   "metadata": {},
   "outputs": [
    {
     "data": {
      "text/plain": [
       "[[1/6, [[1, 2, 3], [4]]], [-1/24, [[1, 2, 3, 4]]]]"
      ]
     },
     "execution_count": 71,
     "metadata": {},
     "output_type": "execute_result"
    }
   ],
   "source": [
    "S_pi_coeff_h([[1,2,3],[4]])"
   ]
  },
  {
   "cell_type": "code",
   "execution_count": 72,
   "metadata": {},
   "outputs": [
    {
     "name": "stdout",
     "output_type": "stream",
     "text": [
      "[[1/24, [[1, 3], [2, 4], [5, 6, 7], [8]]], [-1/96, [[1, 3], [2, 4], [5, 6, 7, 8]]], [-1/36, [[1, 3, 2], [4], [5, 6, 7], [8]]], [1/144, [[1, 3, 2], [4], [5, 6, 7, 8]]]]\n"
     ]
    }
   ],
   "source": [
    "L=[]\n",
    "for a in S_pi_coeff_h([[1,3],[2,4]]):\n",
    "    for b in S_pi_coeff_h([[1,2,3],[4]]):\n",
    "        L.append([a[0]*b[0],a[1]+A_plus_i(b[1],size_A(a[1]))])\n",
    "        \n",
    "print L            "
   ]
  },
  {
   "cell_type": "code",
   "execution_count": 73,
   "metadata": {},
   "outputs": [
    {
     "data": {
      "text/plain": [
       "[[1, 2], [3], [4, 6], [5, 7]]"
      ]
     },
     "execution_count": 73,
     "metadata": {},
     "output_type": "execute_result"
    }
   ],
   "source": [
    "A=[[1,2],[3]]\n",
    "B=[[1,3],[2,4]]\n",
    "A+A_plus_i(B,3)\n"
   ]
  },
  {
   "cell_type": "code",
   "execution_count": 74,
   "metadata": {},
   "outputs": [
    {
     "data": {
      "text/plain": [
       "[[1/8, [[1, 2], [3], [4, 6], [5, 7]]],\n",
       " [-1/12, [[1, 2], [3], [4, 6, 5], [7]]],\n",
       " [-1/24, [[1, 2, 3], [4, 6], [5, 7]]],\n",
       " [1/36, [[1, 2, 3], [4, 6, 5], [7]]]]"
      ]
     },
     "execution_count": 74,
     "metadata": {},
     "output_type": "execute_result"
    }
   ],
   "source": [
    "S_prod_coeff_h([[1,2],[3]],[[1,3],[2,4]])"
   ]
  },
  {
   "cell_type": "code",
   "execution_count": null,
   "metadata": {},
   "outputs": [],
   "source": []
  },
  {
   "cell_type": "code",
   "execution_count": 75,
   "metadata": {},
   "outputs": [],
   "source": [
    "def s_prod_s_vector(pi,qi):\n",
    "    n=0\n",
    "    for i in pi:\n",
    "        n=n+len(i)\n",
    "    for j in qi:\n",
    "        n=n+len(j)\n",
    "    return (transition_matrix_from_s_to_h(n).inverse())*s_prod_h_vector(pi,qi)"
   ]
  },
  {
   "cell_type": "code",
   "execution_count": 76,
   "metadata": {},
   "outputs": [
    {
     "data": {
      "text/plain": [
       "[ 11/2  -5/2]\n",
       "[-15/4   7/4]"
      ]
     },
     "execution_count": 76,
     "metadata": {},
     "output_type": "execute_result"
    }
   ],
   "source": [
    "(matrix([[1,2],[3,4]])*matrix([[1,2],[3,4]])).inverse()"
   ]
  },
  {
   "cell_type": "code",
   "execution_count": 77,
   "metadata": {
    "scrolled": true
   },
   "outputs": [
    {
     "data": {
      "text/plain": [
       "'[ 0  0  0  0  0  1  0  0  0  0  0  0  0  0  0  0  0  0  0  0  0  0  0  0  0  1  0  0  0 -1  0  0  0  1  0  0  0  0  0  0  0  0  0  0  0  0  0  0  0  0  0  0]'"
      ]
     },
     "execution_count": 77,
     "metadata": {},
     "output_type": "execute_result"
    }
   ],
   "source": [
    "pi=[[1,2],[3,4]]\n",
    "qi=[[1]]\n",
    "s_prod_s_vector(qi,pi).transpose().str()"
   ]
  },
  {
   "cell_type": "code",
   "execution_count": 78,
   "metadata": {},
   "outputs": [],
   "source": [
    "def s_prod_s_vector_coordinates(pi,qi):\n",
    "    \"This functin takes set partitions pi and qi and then retruns the product in terms of Schur basis with Steph's labeling \"\n",
    "    s=0\n",
    "    L=[]\n",
    "    S=s_prod_s_vector(pi,qi)\n",
    "    for a in pi:\n",
    "        s=s+len(a)\n",
    "    for b in qi:\n",
    "        s=s+len(b)\n",
    "    B=SetPartitions(s)\n",
    "    for i in range(S.nrows()):\n",
    "        if S[i]!=0:\n",
    "            L.append([S[i],B[i]])\n",
    "    return L"
   ]
  },
  {
   "cell_type": "code",
   "execution_count": 79,
   "metadata": {},
   "outputs": [
    {
     "data": {
      "text/plain": [
       "[[(1), {{1, 2, 4, 5}, {3}}],\n",
       " [(1), {{1, 4, 5}, {2, 3}}],\n",
       " [(-1), {{1}, {2, 3, 4, 5}}],\n",
       " [(1), {{1}, {2, 3}, {4, 5}}]]"
      ]
     },
     "execution_count": 79,
     "metadata": {},
     "output_type": "execute_result"
    }
   ],
   "source": [
    "pi=[[1,2],[3,4]]\n",
    "qi=[[1]]\n",
    "s_prod_s_vector_coordinates(qi,pi)"
   ]
  },
  {
   "cell_type": "code",
   "execution_count": 80,
   "metadata": {},
   "outputs": [],
   "source": [
    "def check_skew(la,mu):\n",
    "    if len(la)<len(mu):\n",
    "        return 'Please choose different paritions since these do not give a skew shape'\n",
    "    for k in range(len(la)-len(mu)):\n",
    "        mu.append(0)\n",
    "    for i in range(len(la)):\n",
    "        if la[i]<mu[i]:\n",
    "            return 'Please choose different paritions since these do not give a skew shape'\n",
    "    return mu"
   ]
  },
  {
   "cell_type": "code",
   "execution_count": 81,
   "metadata": {},
   "outputs": [
    {
     "data": {
      "text/plain": [
       "'Please choose different paritions since these do not give a skew shape'"
      ]
     },
     "execution_count": 81,
     "metadata": {},
     "output_type": "execute_result"
    }
   ],
   "source": [
    "check_skew([3,2,1],[3,3])"
   ]
  },
  {
   "cell_type": "code",
   "execution_count": null,
   "metadata": {},
   "outputs": [],
   "source": []
  },
  {
   "cell_type": "code",
   "execution_count": 82,
   "metadata": {},
   "outputs": [],
   "source": [
    "def JaTrSkew(la,mu):\n",
    "    'This function returns an array where its i,j entry is [1,2,..,n] if i,j entry of Jacobi-Trudi is h_n'\n",
    "    A=[]\n",
    "    B=[]\n",
    "    mu=check_skew(la,mu)\n",
    "    for i in range(len(la)):\n",
    "        for j in range(len(la)):\n",
    "            if la[i]-mu[j]-i+j<0:\n",
    "                A.append(0)\n",
    "            if la[i]-mu[j]-i+j>=0:\n",
    "                A.append([k+1 for  k in range(la[i]-mu[j]-i+j)])\n",
    "        B.append(A)\n",
    "        A=[]\n",
    "    return B"
   ]
  },
  {
   "cell_type": "code",
   "execution_count": 83,
   "metadata": {},
   "outputs": [
    {
     "data": {
      "text/plain": [
       "[[[1], [1, 2, 3], [1, 2, 3, 4, 5]], [0, [1], [1, 2, 3]], [0, 0, [1]]]"
      ]
     },
     "execution_count": 83,
     "metadata": {},
     "output_type": "execute_result"
    }
   ],
   "source": [
    "JaTrSkew([3,2,1],[2,1])"
   ]
  },
  {
   "cell_type": "code",
   "execution_count": 84,
   "metadata": {},
   "outputs": [
    {
     "data": {
      "text/plain": [
       "[[[1, 2], [1, 2, 3, 4, 5]], [0, [1, 2]]]"
      ]
     },
     "execution_count": 84,
     "metadata": {},
     "output_type": "execute_result"
    }
   ],
   "source": [
    "JaTrSkew([4,2],[2])"
   ]
  },
  {
   "cell_type": "code",
   "execution_count": 85,
   "metadata": {},
   "outputs": [
    {
     "data": {
      "text/plain": [
       "[[[1], [1, 2, 3], [1, 2, 3, 4, 5]], [0, [1], [1, 2, 3]], [0, 0, [1]]]"
      ]
     },
     "execution_count": 85,
     "metadata": {},
     "output_type": "execute_result"
    }
   ],
   "source": [
    "JaTrSkew([3,2,1],[2,1])"
   ]
  },
  {
   "cell_type": "code",
   "execution_count": 86,
   "metadata": {},
   "outputs": [],
   "source": [
    "def parts_of_det_skew(sig,la,mu):\n",
    "    'This gives the constituents of the determinet: the part that comes from sig'\n",
    "    A=[]\n",
    "    for i in range(len(la)):\n",
    "        A.append([JaTrSkew(la,mu)[i][sig[i]-1]])\n",
    "    return A"
   ]
  },
  {
   "cell_type": "code",
   "execution_count": 87,
   "metadata": {},
   "outputs": [
    {
     "data": {
      "text/plain": [
       "[[[1, 2, 3]], [0], [[1]]]"
      ]
     },
     "execution_count": 87,
     "metadata": {},
     "output_type": "execute_result"
    }
   ],
   "source": [
    "parts_of_det_skew([2,1,3],[3,2,1],[2,1])"
   ]
  },
  {
   "cell_type": "code",
   "execution_count": 88,
   "metadata": {},
   "outputs": [],
   "source": [
    "def concat_parts_of_det_skew(sig,la,mu):\n",
    "    'This is the entry that correspond to the permutation sig in the determinent'\n",
    "    'This return 0 if it has a 0 constituent'\n",
    "    C=[]\n",
    "    if [0] in parts_of_det_skew(sig,la,mu):\n",
    "        return 0\n",
    "    if [0] not in parts_of_det_skew(sig,la,mu):\n",
    "        for A in parts_of_det_skew(sig,la,mu):\n",
    "            if A!=[[]]:\n",
    "                C=shifted_concat(C,A)         \n",
    "    return C"
   ]
  },
  {
   "cell_type": "code",
   "execution_count": 89,
   "metadata": {},
   "outputs": [
    {
     "data": {
      "text/plain": [
       "[[1, 2, 3, 4], [5], [6]]"
      ]
     },
     "execution_count": 89,
     "metadata": {},
     "output_type": "execute_result"
    }
   ],
   "source": [
    "concat_parts_of_det_skew([2,1,3],[3,2,1],[])"
   ]
  },
  {
   "cell_type": "code",
   "execution_count": 90,
   "metadata": {},
   "outputs": [],
   "source": [
    "def coeff_of_h_trivial_permutation_skew(sig,la,mu):\n",
    "    \"This function looks at the term in Jacobi Trudi that corresponds to Permutation sig and returns [the coeff,setpar]\"\n",
    "    \"Also, it returns [0,0] if the component is 0\"\n",
    "    A=concat_parts_of_det_skew(sig,la,mu)\n",
    "    if A==0:\n",
    "        return [0,0]\n",
    "    if A!=0:\n",
    "        return [1/(factorial_SetP(A))*Permutation(sig).sign(),A]\n",
    "        "
   ]
  },
  {
   "cell_type": "code",
   "execution_count": 91,
   "metadata": {},
   "outputs": [
    {
     "data": {
      "text/plain": [
       "[-1/24, [[1, 2, 3, 4], [5], [6]]]"
      ]
     },
     "execution_count": 91,
     "metadata": {},
     "output_type": "execute_result"
    }
   ],
   "source": [
    "coeff_of_h_trivial_permutation_skew([2,1,3],[3,2,1],[])"
   ]
  },
  {
   "cell_type": "code",
   "execution_count": 92,
   "metadata": {},
   "outputs": [],
   "source": [
    "def act_on_part(delt,setpar):\n",
    "    for a in setpar:\n",
    "        for i in range(len(a)):\n",
    "            a[i]=delt[a[i]-1]\n",
    "    return setpar"
   ]
  },
  {
   "cell_type": "code",
   "execution_count": 93,
   "metadata": {},
   "outputs": [
    {
     "data": {
      "text/plain": [
       "[[3, 1], [2]]"
      ]
     },
     "execution_count": 93,
     "metadata": {},
     "output_type": "execute_result"
    }
   ],
   "source": [
    "act_on_part([3,1,2],[[1,2],[3]])"
   ]
  },
  {
   "cell_type": "code",
   "execution_count": 94,
   "metadata": {},
   "outputs": [],
   "source": [
    "def act_concat_parts_of_det_skew(delt, sig,la,mu):\n",
    "    'delta acts on the set partition  parts_of_det(sig,la,mu)'\n",
    "    if concat_parts_of_det_skew(sig,la,mu)==0:\n",
    "        return 0\n",
    "    return act_on_part(delt,concat_parts_of_det_skew(sig,la,mu))"
   ]
  },
  {
   "cell_type": "code",
   "execution_count": 95,
   "metadata": {},
   "outputs": [
    {
     "data": {
      "text/plain": [
       "[[3, 1], [2]]"
      ]
     },
     "execution_count": 95,
     "metadata": {},
     "output_type": "execute_result"
    }
   ],
   "source": [
    "act_concat_parts_of_det_skew([3,1,2], [1,2],[2,1],[])"
   ]
  },
  {
   "cell_type": "code",
   "execution_count": 96,
   "metadata": {},
   "outputs": [],
   "source": [
    "def s_delt_la_h_skew(delt,la,mu):\n",
    "    'This takes a relabeling delt and returns [coeff, partition] in writing s_delt_la in terms of h basis'\n",
    "    L=[]\n",
    "    for sig in Permutations(len(la)):\n",
    "        a=act_concat_parts_of_det_skew(delt, sig,la,mu)\n",
    "        if a!=0:\n",
    "            L.append([(1/factorial_SetP(a))*sig.sign(), a])\n",
    "    return L "
   ]
  },
  {
   "cell_type": "code",
   "execution_count": 97,
   "metadata": {},
   "outputs": [
    {
     "data": {
      "text/plain": [
       "[[1/4, [[1, 2], [3, 4]]]]"
      ]
     },
     "execution_count": 97,
     "metadata": {},
     "output_type": "execute_result"
    }
   ],
   "source": [
    "s_delt_la_h_skew([1,2,3,4],[4,2],[2])"
   ]
  },
  {
   "cell_type": "code",
   "execution_count": 98,
   "metadata": {},
   "outputs": [
    {
     "data": {
      "text/plain": [
       "[[1/2, [[2, 1], [3]]], [-1/6, [[2, 1, 3]]]]"
      ]
     },
     "execution_count": 98,
     "metadata": {},
     "output_type": "execute_result"
    }
   ],
   "source": [
    "s_delt_la_h_skew([2,1,3],[2,1],[])"
   ]
  },
  {
   "cell_type": "code",
   "execution_count": 99,
   "metadata": {},
   "outputs": [],
   "source": [
    "def s_skew_h_vector(delt,la,mu):\n",
    "    \"This function return the coordinate vector of s_delt_la_h_skew(delt,la,mu) in terms of h basis\"\n",
    "    L=[]\n",
    "    s=0\n",
    "    for a in la:\n",
    "        s=s+a\n",
    "    for b in mu:\n",
    "        s=s-b\n",
    "    for i in range(len(SetPartitions(s))):\n",
    "        L.append(0)\n",
    "    for a in s_delt_la_h_skew(delt,la,mu):\n",
    "        c=L[position_pi_in_partitions(a[1])]\n",
    "        L[position_pi_in_partitions(a[1])]=c+a[0]\n",
    "    return matrix(L).transpose()"
   ]
  },
  {
   "cell_type": "code",
   "execution_count": 100,
   "metadata": {},
   "outputs": [
    {
     "data": {
      "text/plain": [
       "(0)"
      ]
     },
     "execution_count": 100,
     "metadata": {},
     "output_type": "execute_result"
    }
   ],
   "source": [
    "s_skew_h_vector([2,1,3],[2,1],[])[2]\n",
    "    "
   ]
  },
  {
   "cell_type": "code",
   "execution_count": 101,
   "metadata": {},
   "outputs": [],
   "source": [
    "def s_skew_h_basis(delt,la,mu):\n",
    "    \"This function gets labeling delt, integer partition la and mu, and then return skew Schur with of shape la/mu with labeling delt\"\n",
    "    p=0\n",
    "    for a in s_delt_la_h_skew(delt,la,mu):\n",
    "        p=p+a[0]*h(a[1])\n",
    "    return p\n",
    "        \n",
    "        \n",
    "        \n",
    "    "
   ]
  },
  {
   "cell_type": "code",
   "execution_count": 102,
   "metadata": {},
   "outputs": [
    {
     "data": {
      "text/plain": [
       "1/2*h{{1, 2}, {3}} - 1/6*h{{1, 2, 3}}"
      ]
     },
     "execution_count": 102,
     "metadata": {},
     "output_type": "execute_result"
    }
   ],
   "source": [
    "s_skew_h_basis([2,1,3],[2,1],[])"
   ]
  },
  {
   "cell_type": "code",
   "execution_count": 103,
   "metadata": {},
   "outputs": [],
   "source": [
    "def s_skew_in_terms_s_pi(delt,la,mu):\n",
    "    s=0\n",
    "    for a in la:\n",
    "        s=s+a\n",
    "    for b in mu:\n",
    "        s=s-b\n",
    "    return transition_matrix_from_s_to_h(s)*s_skew_h_vector(delt,la,mu)"
   ]
  },
  {
   "cell_type": "code",
   "execution_count": 104,
   "metadata": {},
   "outputs": [
    {
     "data": {
      "text/plain": [
       "[-1/9]\n",
       "[ 1/4]\n",
       "[   0]\n",
       "[   0]\n",
       "[   0]"
      ]
     },
     "execution_count": 104,
     "metadata": {},
     "output_type": "execute_result"
    }
   ],
   "source": [
    "s_skew_in_terms_s_pi([2,1,3],[2,1],[])"
   ]
  },
  {
   "cell_type": "code",
   "execution_count": 105,
   "metadata": {},
   "outputs": [],
   "source": [
    "def s_skew_in_terms_s_pi_coordinates(delt,la,mu):\n",
    "    \"This function returns [coeff,Partitions] where coeff=c_Partition in the expansion of skew in terms of S_basis\"\n",
    "    s=0\n",
    "    L=[]\n",
    "    S=s_skew_in_terms_s_pi(delt,la,mu)\n",
    "    for a in pi:\n",
    "        s=s+len(a)\n",
    "    for b in qi:\n",
    "        s=s+len(b)\n",
    "    B=SetPartitions(s)\n",
    "    for i in range(S.nrows()):\n",
    "        if S[i]!=0:\n",
    "            L.append([S[i],B[i]])\n",
    "    return L"
   ]
  },
  {
   "cell_type": "code",
   "execution_count": 106,
   "metadata": {},
   "outputs": [
    {
     "name": "stdout",
     "output_type": "stream",
     "text": [
      "[[(-1/576), {{1, 2, 3, 4, 5}}], [(1/144), {{1, 2, 3, 4}, {5}}], [(7/576), {{1, 2, 3, 5}, {4}}], [(1/72), {{1, 2, 3}, {4, 5}}], [(-5/72), {{1, 2, 3}, {4}, {5}}], [(-1/36), {{1, 2}, {3, 4, 5}}], [(1/16), {{1, 2}, {3, 5}, {4}}], [(1/288), {{1, 3, 4, 5}, {2}}]]\n",
      "[[(-1/576), {{1, 2, 3, 4, 5}}], [(1/288), {{1, 2, 3, 4}, {5}}], [(11/576), {{1, 2, 4, 5}, {3}}], [(-1/24), {{1, 2, 5}, {3}, {4}}], [(1/72), {{1, 4, 5}, {2, 3}}], [(-1/36), {{1, 5}, {2, 3, 4}}], [(-1/36), {{1, 4, 5}, {2}, {3}}], [(1/16), {{1, 5}, {2, 4}, {3}}]]\n"
     ]
    }
   ],
   "source": [
    "print s_skew_in_terms_s_pi_coordinates([2,1,3,5,4],[2,2,1],[])\n",
    "print s_skew_in_terms_s_pi_coordinates([5,1,4,2,3],[2,2,1],[])"
   ]
  },
  {
   "cell_type": "code",
   "execution_count": 107,
   "metadata": {},
   "outputs": [
    {
     "name": "stdout",
     "output_type": "stream",
     "text": [
      "1/4*h{{1, 2}, {3, 4}}\n",
      "1/4*h{{1, 2}, {3, 4}} - 1/24*h{{1, 2, 3, 4}}\n",
      "1/24*h{{1, 2, 3, 4}}\n"
     ]
    }
   ],
   "source": [
    "print s_skew_h_basis([1,2,3,4],[4,2],[2])\n",
    "print s_skew_h_basis([1,2,3,4],[3,2],[1])\n",
    "print s_skew_h_basis([1,2,3,4],[4],[])\n",
    "    "
   ]
  },
  {
   "cell_type": "code",
   "execution_count": 108,
   "metadata": {},
   "outputs": [
    {
     "data": {
      "text/plain": [
       "1/4*h{{1, 2}, {3, 4}}"
      ]
     },
     "execution_count": 108,
     "metadata": {},
     "output_type": "execute_result"
    }
   ],
   "source": [
    "s_skew_h_basis([1,2,3,4],[4,2],[2])"
   ]
  },
  {
   "cell_type": "code",
   "execution_count": null,
   "metadata": {},
   "outputs": [],
   "source": []
  },
  {
   "cell_type": "markdown",
   "metadata": {},
   "source": [
    "\n"
   ]
  },
  {
   "cell_type": "markdown",
   "metadata": {},
   "source": [
    " **Schur of pi with labeling delt in terms of h:\n",
    " S_labeling_pi(delt,pi):**\n",
    " \n",
    "    \"This takes a relabeling delt of length n and a set partition pi of n and returns Schur with delt labeling in terms of h basis\"\n",
    "\n",
    "\n",
    " **Schur of pi with Steph's labeling in terms of h: \n",
    " S_pi(pi)**\n",
    " \n",
    "    \"This fucntion gives Shurs with the relabeling that Steph discovered in terms of h basis\"\n",
    "    \n",
    " **Transition matrix from Schurs with Steph's labeling to h basis:  \n",
    " transition_matrix_from_s_to_h(n)**\n",
    "\n",
    " **Product of Schurs with Steph labeling in terms of Schurs with Steph's labeling: s_prod_s_vector_coordinates(pi,qi):**\n",
    " \n",
    "    \"This functin takes set partitions pi and qi and then retruns the product in terms of Schur basis with Steph's labeling \"\n",
    "    \n",
    " **Skew Schur of interger partitions lamnda and mu with delt labeling in terms of h basis: \n",
    "s_skew_h_basis(delt,la,mu):**\n",
    "\n",
    "    \n",
    " **Skew Schur of interger partitions lamnda and mu with delt labeling in terms of Schurs with Steph's labeling: \n",
    "s_skew_in_terms_s_pi_coordinates(delt,la,mu)**\n",
    "\n",
    "    \"This function returns [coeff,Partitions] where coeff=c_Partition is the coefficient of s_pi in the expansion of skew in terms of s_pi\"\n",
    "    \n",
    "    \n",
    "\n",
    "\n"
   ]
  },
  {
   "cell_type": "code",
   "execution_count": 109,
   "metadata": {},
   "outputs": [
    {
     "data": {
      "text/plain": [
       "1/4*h{{1, 2}, {3, 4}} - 1/6*h{{1, 2, 3}, {4}}"
      ]
     },
     "execution_count": 109,
     "metadata": {},
     "output_type": "execute_result"
    }
   ],
   "source": [
    "S_labeling_pi([1,2,3,4],[[1,3],[2,4]])"
   ]
  },
  {
   "cell_type": "code",
   "execution_count": 110,
   "metadata": {},
   "outputs": [
    {
     "data": {
      "text/plain": [
       "-1/6*h{{1, 2, 3}, {4}} + 1/4*h{{1, 3}, {2, 4}}"
      ]
     },
     "execution_count": 110,
     "metadata": {},
     "output_type": "execute_result"
    }
   ],
   "source": [
    "S_pi([[1,3],[2,4]])"
   ]
  },
  {
   "cell_type": "code",
   "execution_count": 111,
   "metadata": {},
   "outputs": [
    {
     "data": {
      "text/plain": [
       "[ 1/24 -1/24 -1/24     0  1/24 -1/24     0  1/24     0 -1/24  1/24  1/24  1/24  1/24 -1/24]\n",
       "[    0   1/6     0  -1/6  -1/6     0  -1/6  -1/6     0     0  -1/6     0     0     0   1/6]\n",
       "[    0     0   1/6     0     0     0     0     0  -1/6     0     0  -1/6  -1/6     0     0]\n",
       "[    0     0     0   1/4  -1/4     0     0     0     0     0     0     0     0  -1/4   1/4]\n",
       "[    0     0     0     0   1/2     0     0     0     0     0     0     0     0     0  -1/2]\n",
       "[    0     0     0     0     0   1/6     0     0     0     0     0     0     0  -1/6     0]\n",
       "[    0     0     0     0     0     0   1/4  -1/4     0     0     0     0  -1/4     0     0]\n",
       "[    0     0     0     0     0     0     0   1/2     0     0     0     0     0     0     0]\n",
       "[    0     0     0     0     0     0     0     0   1/4     0  -1/4  -1/4     0     0     0]\n",
       "[    0     0     0     0     0     0     0     0     0   1/6     0     0     0     0   1/6]\n",
       "[    0     0     0     0     0     0     0     0     0     0   1/2     0     0     0  -1/2]\n",
       "[    0     0     0     0     0     0     0     0     0     0     0   1/2     0     0     0]\n",
       "[    0     0     0     0     0     0     0     0     0     0     0     0   1/2     0     0]\n",
       "[    0     0     0     0     0     0     0     0     0     0     0     0     0   1/2  -1/2]\n",
       "[    0     0     0     0     0     0     0     0     0     0     0     0     0     0     1]"
      ]
     },
     "execution_count": 111,
     "metadata": {},
     "output_type": "execute_result"
    }
   ],
   "source": [
    "transition_matrix_from_s_to_h(4)"
   ]
  },
  {
   "cell_type": "code",
   "execution_count": 112,
   "metadata": {},
   "outputs": [
    {
     "data": {
      "text/plain": [
       "[[(-1), {{1, 2, 3, 4}, {5}}],\n",
       " [(1), {{1, 2}, {3, 4, 5}}],\n",
       " [(1), {{1, 2}, {3, 4}, {5}}],\n",
       " [(1), {{1, 3, 4, 5}, {2}}]]"
      ]
     },
     "execution_count": 112,
     "metadata": {},
     "output_type": "execute_result"
    }
   ],
   "source": [
    "s_prod_s_vector_coordinates([[1,2],[3,4]],[[1]])"
   ]
  },
  {
   "cell_type": "code",
   "execution_count": 572,
   "metadata": {},
   "outputs": [
    {
     "data": {
      "text/plain": [
       "1/4*h{{1, 2}, {3, 4}} - 1/24*h{{1, 2, 3, 4}}"
      ]
     },
     "execution_count": 572,
     "metadata": {},
     "output_type": "execute_result"
    }
   ],
   "source": [
    "s_skew_h_basis([1,2,3,4],[3,2],[1])"
   ]
  },
  {
   "cell_type": "code",
   "execution_count": 573,
   "metadata": {},
   "outputs": [
    {
     "data": {
      "text/plain": [
       "[[(-1/576), {{1, 2, 3, 4, 5}}],\n",
       " [(-1/24), {{1, 2, 3, 4}, {5}}],\n",
       " [(1/16), {{1, 2, 3}, {4, 5}}]]"
      ]
     },
     "execution_count": 573,
     "metadata": {},
     "output_type": "execute_result"
    }
   ],
   "source": [
    "s_skew_in_terms_s_pi_coordinates([1,2,3,4],[3,2],[1])"
   ]
  },
  {
   "cell_type": "code",
   "execution_count": 574,
   "metadata": {},
   "outputs": [
    {
     "data": {
      "text/plain": [
       "1/4*h{{1, 2}, {3, 4}} - 1/24*h{{1, 2, 3, 4}}"
      ]
     },
     "execution_count": 574,
     "metadata": {},
     "output_type": "execute_result"
    }
   ],
   "source": [
    "s_skew_h_basis(Steph_relabeling([[1,2,4],[3]]),[3,2],[1])"
   ]
  },
  {
   "cell_type": "code",
   "execution_count": 575,
   "metadata": {},
   "outputs": [
    {
     "data": {
      "text/plain": [
       "[[(-1/576), {{1, 2, 3, 4, 5}}],\n",
       " [(-1/24), {{1, 2, 3, 4}, {5}}],\n",
       " [(1/16), {{1, 2, 3}, {4, 5}}]]"
      ]
     },
     "execution_count": 575,
     "metadata": {},
     "output_type": "execute_result"
    }
   ],
   "source": [
    "s_skew_in_terms_s_pi_coordinates(Steph_relabeling([[1,2,4],[3]]),[3,2],[1])"
   ]
  },
  {
   "cell_type": "code",
   "execution_count": 576,
   "metadata": {},
   "outputs": [
    {
     "data": {
      "text/plain": [
       "[[(1), {{1, 2, 3, 4, 6}, {5}}],\n",
       " [(-1), {{1, 2, 3, 4}, {5, 6}}],\n",
       " [(-1), {{1, 2, 3, 4}, {5}, {6}}],\n",
       " [(1), {{1, 2, 3, 6}, {4, 5}}],\n",
       " [(1), {{1, 2, 6}, {3, 4, 5}}],\n",
       " [(-1), {{1, 2}, {3, 4, 5, 6}}],\n",
       " [(1), {{1, 2}, {3, 4, 5}, {6}}],\n",
       " [(1), {{1, 2}, {3, 4}, {5}, {6}}],\n",
       " [(-1), {{1, 3, 4, 5, 6}, {2}}],\n",
       " [(1), {{1, 3, 4, 5}, {2, 6}}],\n",
       " [(1), {{1, 3, 4, 5}, {2}, {6}}]]"
      ]
     },
     "execution_count": 576,
     "metadata": {},
     "output_type": "execute_result"
    }
   ],
   "source": [
    "\"Right Pieri rule with a column\"\n",
    "s_prod_s_vector_coordinates([[1,2],[3,4]],[[1],[2]])"
   ]
  },
  {
   "cell_type": "code",
   "execution_count": 577,
   "metadata": {},
   "outputs": [
    {
     "data": {
      "text/plain": [
       "[[(-1), {{1, 2, 3, 4, 5}, {6}}],\n",
       " [(1), {{1, 2, 3, 4, 6}, {5}}],\n",
       " [(-1), {{1, 2, 3, 4}, {5, 6}}],\n",
       " [(-1), {{1, 2, 3, 4}, {5}, {6}}],\n",
       " [(1), {{1, 2, 3, 6}, {4, 5}}],\n",
       " [(-1), {{1, 2, 3}, {4, 5, 6}}],\n",
       " [(1), {{1, 2, 6}, {3, 4, 5}}],\n",
       " [(1), {{1, 2}, {3, 4, 5}, {6}}],\n",
       " [(1), {{1, 2}, {3, 4}, {5, 6}}],\n",
       " [(1), {{1, 3, 4, 5}, {2, 6}}],\n",
       " [(1), {{1, 3, 4, 5}, {2}, {6}}]]"
      ]
     },
     "execution_count": 577,
     "metadata": {},
     "output_type": "execute_result"
    }
   ],
   "source": [
    "\"Right Pieri rule with a row\"\n",
    "s_prod_s_vector_coordinates([[1,2],[3,4]],[[1,2]])"
   ]
  },
  {
   "cell_type": "code",
   "execution_count": 578,
   "metadata": {},
   "outputs": [
    {
     "data": {
      "text/plain": [
       "[[(2), {{1, 2, 3, 5, 6}, {4}}],\n",
       " [(-1), {{1, 2}, {3, 4, 5, 6}}],\n",
       " [(-2), {{1, 3, 4, 5, 6}, {2}}],\n",
       " [(1), {{1, 3, 5, 6}, {2, 4}}],\n",
       " [(1), {{1, 3, 5, 6}, {2}, {4}}],\n",
       " [(1), {{1, 5, 6}, {2, 3, 4}}],\n",
       " [(1), {{1, 5, 6}, {2}, {3, 4}}],\n",
       " [(-1), {{1}, {2}, {3, 4, 5, 6}}],\n",
       " [(1), {{1}, {2}, {3, 4}, {5, 6}}]]"
      ]
     },
     "execution_count": 578,
     "metadata": {},
     "output_type": "execute_result"
    }
   ],
   "source": [
    "\"Left Pieri rule with a column\"\n",
    "s_prod_s_vector_coordinates([[1],[2]],[[1,2],[3,4]])"
   ]
  },
  {
   "cell_type": "code",
   "execution_count": 579,
   "metadata": {},
   "outputs": [
    {
     "data": {
      "text/plain": [
       "[[(1), {{1, 2, 3, 4, 5}, {6}}],\n",
       " [(-1), {{1, 2, 3, 4}, {5}, {6}}],\n",
       " [(-1), {{1, 2, 3, 5, 6}, {4}}],\n",
       " [(1), {{1, 2, 3, 5}, {4, 6}}],\n",
       " [(1), {{1, 2, 3, 5}, {4}, {6}}],\n",
       " [(1), {{1, 2, 3}, {4}, {5, 6}}],\n",
       " [(1), {{1, 2}, {3, 4}, {5, 6}}]]"
      ]
     },
     "execution_count": 579,
     "metadata": {},
     "output_type": "execute_result"
    }
   ],
   "source": [
    "\"Left Pieri rule with a row\"\n",
    "s_prod_s_vector_coordinates([[1,2]],[[1,2],[3,4]])"
   ]
  },
  {
   "cell_type": "code",
   "execution_count": 580,
   "metadata": {},
   "outputs": [
    {
     "data": {
      "text/plain": [
       "[[(1), {{1, 2, 4, 5}, {3}}],\n",
       " [(1), {{1, 4, 5}, {2, 3}}],\n",
       " [(-1), {{1}, {2, 3, 4, 5}}],\n",
       " [(1), {{1}, {2, 3}, {4, 5}}]]"
      ]
     },
     "execution_count": 580,
     "metadata": {},
     "output_type": "execute_result"
    }
   ],
   "source": [
    " \"Left Monk’s rule\"\n",
    "s_prod_s_vector_coordinates([[1]],[[1,2],[3,4]])"
   ]
  },
  {
   "cell_type": "code",
   "execution_count": 581,
   "metadata": {},
   "outputs": [
    {
     "data": {
      "text/plain": [
       "[[(-1), {{1, 2, 3, 4}, {5}}],\n",
       " [(1), {{1, 2}, {3, 4, 5}}],\n",
       " [(1), {{1, 2}, {3, 4}, {5}}],\n",
       " [(1), {{1, 3, 4, 5}, {2}}]]"
      ]
     },
     "execution_count": 581,
     "metadata": {},
     "output_type": "execute_result"
    }
   ],
   "source": [
    "\"Right Monk’s rule\"\n",
    "s_prod_s_vector_coordinates([[1,2],[3,4]],[[1]])"
   ]
  },
  {
   "cell_type": "code",
   "execution_count": 582,
   "metadata": {},
   "outputs": [
    {
     "data": {
      "text/plain": [
       "[[(1), {{1, 2, 3}, {4}}], [(1), {{1, 3}, {2, 4}}], [(1), {{1, 3}, {2}, {4}}]]"
      ]
     },
     "execution_count": 582,
     "metadata": {},
     "output_type": "execute_result"
    }
   ],
   "source": [
    "s_prod_s_vector_coordinates([[1,3],[2]],[[1]])"
   ]
  },
  {
   "cell_type": "code",
   "execution_count": 583,
   "metadata": {},
   "outputs": [
    {
     "data": {
      "text/plain": [
       "[[(1), {{1, 2, 3}, {4}}],\n",
       " [(1), {{1, 2, 4}, {3}}],\n",
       " [(1), {{1, 3}, {2, 4}}],\n",
       " [(-1), {{1}, {2, 3, 4}}],\n",
       " [(1), {{1}, {2, 4}, {3}}]]"
      ]
     },
     "execution_count": 583,
     "metadata": {},
     "output_type": "execute_result"
    }
   ],
   "source": [
    "s_prod_s_vector_coordinates([[1]],[[1,3],[2]])"
   ]
  },
  {
   "cell_type": "code",
   "execution_count": 584,
   "metadata": {
    "scrolled": true
   },
   "outputs": [
    {
     "data": {
      "text/plain": [
       "0"
      ]
     },
     "execution_count": 584,
     "metadata": {},
     "output_type": "execute_result"
    }
   ],
   "source": [
    "a=s_skew_h_basis([1,2,3,4,5,6,7,8,9,10],[5,4,4,2,1],[2,2,2])\n",
    "b=s_skew_h_basis([1,2,3,4,5,6,7,8,9,10],[4,3,3,2,1],[1,1,1])\n",
    "c=s_skew_h_basis([1,2,3,4,5,6,7,8,9,10],[5,4,4,1],[2,2])\n",
    "\n",
    "a-b-c\n"
   ]
  },
  {
   "cell_type": "code",
   "execution_count": 116,
   "metadata": {},
   "outputs": [
    {
     "data": {
      "text/plain": [
       "[[(-1), {{1, 2, 3, 4, 5, 6}, {7}}],\n",
       " [(-1), {{1, 2, 3, 4, 5}, {6, 7}}],\n",
       " [(1), {{1, 2, 3, 5, 6, 7}, {4}}],\n",
       " [(1), {{1, 2, 5, 6, 7}, {3, 4}}],\n",
       " [(1), {{1, 3, 4}, {2, 5, 6, 7}}],\n",
       " [(1), {{1, 3, 4}, {2, 5, 6}, {7}}]]"
      ]
     },
     "execution_count": 116,
     "metadata": {},
     "output_type": "execute_result"
    }
   ],
   "source": [
    "s_prod_s_vector_coordinates([[1,3,4],[2,5,6]],[[1]])"
   ]
  },
  {
   "cell_type": "code",
   "execution_count": 117,
   "metadata": {},
   "outputs": [
    {
     "data": {
      "text/plain": [
       "[[(1), {{1, 3, 4, 5, 6}, {2}}],\n",
       " [(-1), {{1}, {2, 3, 4, 5, 6}}],\n",
       " [(-1), {{1, 4, 5, 6}, {2}, {3}}],\n",
       " [(1), {{1}, {2}, {3, 4, 5, 6}}],\n",
       " [(1), {{1, 5, 6}, {2}, {3}, {4}}],\n",
       " [(-1), {{1}, {2}, {3}, {4, 5, 6}}],\n",
       " [(1), {{1}, {2}, {3}, {4}, {5, 6}}],\n",
       " [(1), {{1}, {2}, {3}, {4}, {5}, {6}}]]"
      ]
     },
     "execution_count": 117,
     "metadata": {},
     "output_type": "execute_result"
    }
   ],
   "source": [
    "s_prod_s_vector_coordinates([[1],[2],[3],[4],[5]],[[1]])"
   ]
  },
  {
   "cell_type": "code",
   "execution_count": null,
   "metadata": {},
   "outputs": [],
   "source": []
  },
  {
   "cell_type": "code",
   "execution_count": null,
   "metadata": {},
   "outputs": [],
   "source": []
  },
  {
   "cell_type": "code",
   "execution_count": null,
   "metadata": {},
   "outputs": [],
   "source": []
  },
  {
   "cell_type": "code",
   "execution_count": null,
   "metadata": {},
   "outputs": [],
   "source": []
  },
  {
   "cell_type": "code",
   "execution_count": null,
   "metadata": {},
   "outputs": [],
   "source": []
  }
 ],
 "metadata": {
  "kernelspec": {
   "display_name": "SageMath 8.6",
   "language": "",
   "name": "sagemath"
  },
  "language_info": {
   "codemirror_mode": {
    "name": "ipython",
    "version": 2
   },
   "file_extension": ".py",
   "mimetype": "text/x-python",
   "name": "python",
   "nbconvert_exporter": "python",
   "pygments_lexer": "ipython2",
   "version": "2.7.15"
  }
 },
 "nbformat": 4,
 "nbformat_minor": 2
}
